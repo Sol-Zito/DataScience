{
  "nbformat": 4,
  "nbformat_minor": 0,
  "metadata": {
    "kernelspec": {
      "display_name": "Python 3",
      "language": "python",
      "name": "python3"
    },
    "language_info": {
      "codemirror_mode": {
        "name": "ipython",
        "version": 3
      },
      "file_extension": ".py",
      "mimetype": "text/x-python",
      "name": "python",
      "nbconvert_exporter": "python",
      "pygments_lexer": "ipython3",
      "version": "3.7.3"
    },
    "colab": {
      "provenance": [],
      "include_colab_link": true
    }
  },
  "cells": [
    {
      "cell_type": "markdown",
      "metadata": {
        "id": "view-in-github",
        "colab_type": "text"
      },
      "source": [
        "<a href=\"https://colab.research.google.com/github/Sol-Zito/DataScience/blob/main/Notebook_5.ipynb\" target=\"_parent\"><img src=\"https://colab.research.google.com/assets/colab-badge.svg\" alt=\"Open In Colab\"/></a>"
      ]
    },
    {
      "cell_type": "markdown",
      "metadata": {
        "id": "Gp2WddtV9IwG"
      },
      "source": [
        "# Programa Ingenias+ Data Science"
      ]
    },
    {
      "cell_type": "markdown",
      "metadata": {
        "id": "H4M1yVbf9IwH"
      },
      "source": [
        "Como dijimos en clases anteriores, Python tiene implementadas muchas librerias para poder trabajar con datos. En la clase de hoy trabajaremos con una de ellas: `Numpy`."
      ]
    },
    {
      "cell_type": "markdown",
      "metadata": {
        "id": "GdTT8WeL9IwI"
      },
      "source": [
        "Antes de comenzar, vamos a hablar un poco de esta libreria o modulo.\n",
        "\n",
        "**Numpy** es una librería optimizada para realizar cálculos numéricos con vectores y matrices. A diferencia de otros lenguajes de programación, Python no posee en su estructura central la figura de matrices. Eso quiere decir que para poder trabajar con esta estructura de datos deberiamos trabajar con listas de listas. NumPy introduce el concepto de arrays o matrices."
      ]
    },
    {
      "cell_type": "markdown",
      "metadata": {
        "id": "qWkq3EHK9IwK"
      },
      "source": [
        "Al ser de código abierto, `numpy` posee una documentación muy amplia que es **SIEMPRE RECOMENDABLE** consultar."
      ]
    },
    {
      "cell_type": "markdown",
      "metadata": {
        "id": "nxe3KLUO9IwL"
      },
      "source": [
        "- [Documentacion NumPy](https://devdocs.io/numpy/)"
      ]
    },
    {
      "cell_type": "markdown",
      "metadata": {
        "id": "l1Ay3nSs9IwN"
      },
      "source": [
        "## Clase 4: Introduccion a NumPy"
      ]
    },
    {
      "cell_type": "markdown",
      "metadata": {
        "id": "X03mviQS9IyL"
      },
      "source": [
        "# Ejercicios\n",
        "\n",
        "1. Crear un arreglo de ceros de longitud 12\n",
        "2. Crear un arreglo de longitud 10 con ceros en todas sus posiciones y un 10 en la posición número 5\n",
        "3. Crear un arreglo que tenga los números del 10 al 49\n",
        "4. Crear una arreglo 2d de shape (3, 3) que tenga los números del 0 al 8\n",
        "5. Crear un arreglo de números aleatorios de longitud 100 y obtener su media y varianza\n",
        "6. Calcular la media de un arreglo usando np.sum\n",
        "7. Calcular la varianza de un arreglo usando np.sum y np.mean\n",
        "8. Crear un array de números aleatorios usando np.random.randn.\n"
      ]
    },
    {
      "cell_type": "code",
      "metadata": {
        "id": "G0NMKT609IyM"
      },
      "source": [
        "#Importar numpy\n",
        "import numpy as np"
      ],
      "execution_count": 1,
      "outputs": []
    },
    {
      "cell_type": "code",
      "source": [
        "#Crear un arreglo de ceros de longitud 12\n",
        "arr = np.zeros(12)\n",
        "print(arr)"
      ],
      "metadata": {
        "colab": {
          "base_uri": "https://localhost:8080/"
        },
        "id": "4px5fSXjJu5T",
        "outputId": "c3c187eb-62fa-48f7-8005-95ab32a09fe8"
      },
      "execution_count": 11,
      "outputs": [
        {
          "output_type": "stream",
          "name": "stdout",
          "text": [
            "[0. 0. 0. 0. 0. 0. 0. 0. 0. 0. 0. 0.]\n"
          ]
        }
      ]
    },
    {
      "cell_type": "code",
      "source": [
        "#Crear un arreglo de longitud 10 con ceros en todas sus posiciones y un 10 en la posición número 5\n",
        "arr1 = np.zeros(10)\n",
        "arr1[4] = 10\n",
        "print(arr1)"
      ],
      "metadata": {
        "colab": {
          "base_uri": "https://localhost:8080/"
        },
        "id": "gFY6qJOTKGw1",
        "outputId": "b289a2b1-f98b-4f06-8dbb-00f7122f1cc5"
      },
      "execution_count": 12,
      "outputs": [
        {
          "output_type": "stream",
          "name": "stdout",
          "text": [
            "[ 0.  0.  0.  0. 10.  0.  0.  0.  0.  0.]\n"
          ]
        }
      ]
    },
    {
      "cell_type": "code",
      "source": [
        "# Crear un arreglo que tenga los números del 10 al 49\n",
        "arr2 = np.arange(10,50)\n",
        "print(arr2)"
      ],
      "metadata": {
        "colab": {
          "base_uri": "https://localhost:8080/"
        },
        "id": "JuXR9SVtLaFY",
        "outputId": "b50ecc49-070c-480f-e431-6fac74a2e006"
      },
      "execution_count": 4,
      "outputs": [
        {
          "output_type": "stream",
          "name": "stdout",
          "text": [
            "[10 11 12 13 14 15 16 17 18 19 20 21 22 23 24 25 26 27 28 29 30 31 32 33\n",
            " 34 35 36 37 38 39 40 41 42 43 44 45 46 47 48 49]\n"
          ]
        }
      ]
    },
    {
      "cell_type": "code",
      "source": [
        "#Crear una arreglo 2d de shape (3, 3) que tenga los números del 0 al 8\n",
        "arr3 = np.arange(9).reshape(3,3)\n",
        "print(arr3)"
      ],
      "metadata": {
        "colab": {
          "base_uri": "https://localhost:8080/"
        },
        "id": "KBu-iQffMcf4",
        "outputId": "f2167f58-b46f-4e8b-d3d5-d21759d9472a"
      },
      "execution_count": 13,
      "outputs": [
        {
          "output_type": "stream",
          "name": "stdout",
          "text": [
            "[[0 1 2]\n",
            " [3 4 5]\n",
            " [6 7 8]]\n"
          ]
        }
      ]
    },
    {
      "cell_type": "code",
      "source": [
        "#Crear un arreglo de números aleatorios de longitud 100 y obtener su media y varianza\n",
        "arrCien = np.random.random(100)\n",
        "print(\"Media: \",np.mean(arrCien))\n",
        "print(\"Varianza: \",np.var(arrCien))"
      ],
      "metadata": {
        "id": "KSL9sUN2PfKO",
        "colab": {
          "base_uri": "https://localhost:8080/"
        },
        "outputId": "39ff557d-78ec-44e1-b5c5-988ad45bdb18"
      },
      "execution_count": 14,
      "outputs": [
        {
          "output_type": "stream",
          "name": "stdout",
          "text": [
            "Media:  0.5413772400584415\n",
            "Varianza:  0.07800588169367702\n"
          ]
        }
      ]
    },
    {
      "cell_type": "code",
      "source": [
        "#Calcular la media de un arreglo usando np.sum\n",
        "media = np.sum(arrCien) / np.size(arrCien)\n",
        "print(media)"
      ],
      "metadata": {
        "id": "MH8UdX4PPgkC",
        "colab": {
          "base_uri": "https://localhost:8080/"
        },
        "outputId": "00f5c6c6-2d8a-49fb-8dc2-7ef11f871416"
      },
      "execution_count": 20,
      "outputs": [
        {
          "output_type": "stream",
          "name": "stdout",
          "text": [
            "0.5413772400584415\n"
          ]
        }
      ]
    },
    {
      "cell_type": "code",
      "source": [
        "#Calcular la varianza de un arreglo usando np.sum y np.mean\n",
        "media = np.mean(arrCien)\n",
        "cuadrados = np.sum((arrCien - media)**2 )\n",
        "varianza = cuadrados / (len(arrCien))\n",
        "\n",
        "print(varianza)"
      ],
      "metadata": {
        "id": "8MmM7cTSPgw4",
        "colab": {
          "base_uri": "https://localhost:8080/"
        },
        "outputId": "22d4b3df-911f-4198-9dc6-1efe5178ea8a"
      },
      "execution_count": 21,
      "outputs": [
        {
          "output_type": "stream",
          "name": "stdout",
          "text": [
            "0.07800588169367702\n",
            "0.07800588169367702\n"
          ]
        }
      ]
    },
    {
      "cell_type": "code",
      "source": [
        "#Crear un array de números aleatorios usando np.random.randn.\n",
        "arrTres = np.random.randn(3)\n",
        "arrTres"
      ],
      "metadata": {
        "id": "TXwQmy-qPg-3",
        "colab": {
          "base_uri": "https://localhost:8080/"
        },
        "outputId": "1e6468a8-cf17-4642-dee4-829c81474bab"
      },
      "execution_count": 9,
      "outputs": [
        {
          "output_type": "execute_result",
          "data": {
            "text/plain": [
              "array([ 1.56919388,  0.18451113, -0.68920722])"
            ]
          },
          "metadata": {},
          "execution_count": 9
        }
      ]
    }
  ]
}